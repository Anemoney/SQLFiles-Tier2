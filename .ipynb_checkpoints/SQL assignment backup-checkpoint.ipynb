{
 "cells": [
  {
   "cell_type": "code",
   "execution_count": null,
   "id": "b88763e0",
   "metadata": {
    "scrolled": true
   },
   "outputs": [],
   "source": [
    "# Q8\n",
    "SELECT f.name AS facility,\n",
    "\tCASE WHEN m.memid = 0 THEN 'Guest'\n",
    "\tELSE CONCAT_WS(', ', m.surname, m.firstname) END\n",
    "\tAS member,\n",
    "\tCASE WHEN b.memid <> 0 AND (f.membercost * b.slots) > 30.0 THEN (f.membercost * b.slots)\n",
    "\tWHEN b.memid = 0 AND (f.guestcost * b.slots) > 30.0 THEN (f.guestcost * b.slots) END\n",
    "\tAS cost\n",
    "FROM Members as m\n",
    "INNER JOIN Bookings AS b\n",
    "\tON m.memid = b.memid\n",
    "INNER JOIN Facilities as f\n",
    "\tON b.facid = f.facid\n",
    "WHERE b.starttime LIKE '2012-09-14%'\n",
    "HAVING cost IS NOT NULL\n",
    "ORDER BY cost DESC\n",
    "\n",
    "# Q9\n",
    "SELECT \n",
    "CASE WHEN m.memid = 0 THEN 'Guest'\n",
    "\tELSE CONCAT_WS(', ', m.surname, m.firstname) END\n",
    "\tAS name,\n",
    "c.facility,\n",
    "c.cost\n",
    "FROM Members AS m\n",
    "INNER JOIN (\n",
    "\tSELECT b.memid,\n",
    "\tCASE WHEN b.facid = f.facid THEN f.name END AS facility,\n",
    "\tCASE WHEN b.memid = 0 THEN (slots * f.guestcost)\n",
    "\t\tELSE (slots * f.membercost) END AS cost\n",
    "\tFROM Bookings AS b\n",
    "\tINNER JOIN Facilities AS f\n",
    "\tON b.facid = f.facid\n",
    "\tWHERE b.starttime LIKE '2012-09-14%'\n",
    "    ) AS c\n",
    "ON m.memid = c.memid\n",
    "WHERE cost > 30.0\n",
    "ORDER BY cost DESC"
   ]
  }
 ],
 "metadata": {
  "kernelspec": {
   "display_name": "Python 3 (ipykernel)",
   "language": "python",
   "name": "python3"
  },
  "language_info": {
   "codemirror_mode": {
    "name": "ipython",
    "version": 3
   },
   "file_extension": ".py",
   "mimetype": "text/x-python",
   "name": "python",
   "nbconvert_exporter": "python",
   "pygments_lexer": "ipython3",
   "version": "3.9.7"
  }
 },
 "nbformat": 4,
 "nbformat_minor": 5
}
