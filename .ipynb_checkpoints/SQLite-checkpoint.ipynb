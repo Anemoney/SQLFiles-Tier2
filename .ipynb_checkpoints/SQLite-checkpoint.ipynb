{
 "cells": [
  {
   "cell_type": "code",
   "execution_count": null,
   "id": "9af126db",
   "metadata": {},
   "outputs": [],
   "source": [
    "import sqlite3\n",
    "\n",
    "# connection object to interact w/ database\n",
    "connection = sqlite3.connect('sqlite_db_pythonsqlite.db')\n",
    "\n",
    "# cursor object to send SQL statements to database\n",
    "cur = connection.cursor()"
   ]
  },
  {
   "cell_type": "code",
   "execution_count": null,
   "id": "ba291050",
   "metadata": {
    "scrolled": true
   },
   "outputs": [],
   "source": [
    "# name of tables in database\n",
    "\n",
    "res = connection.execute(\"SELECT name FROM sqlite_master WHERE type='table';\")\n",
    "for name in res.fetchall():\n",
    "    print(name[0])"
   ]
  },
  {
   "cell_type": "code",
   "execution_count": null,
   "id": "72d16027",
   "metadata": {},
   "outputs": [],
   "source": [
    "# see data in rows from a table\n",
    "rows = cur.execute(\"SELECT * FROM Bookings LIMIT 0,30\").fetchall()\n",
    "print(rows)"
   ]
  },
  {
   "cell_type": "markdown",
   "id": "650dd69f",
   "metadata": {},
   "source": [
    "### fetch all results of a SELECT statement \n",
    "\n",
    "```\n",
    "cursor.execute(<SQL statement>).fetchall()\n",
    "```\n",
    "\n",
    "WARNING!\n",
    "Never use Python string operations to dynamically create a SQL statement string. Using Python string operations to assemble a SQL statement string leaves you vulnerable to SQL injection attacks. SQL injection attacks can be used to steal, alter, or otherwise modify data stored in your database. Always use the ? placeholder in your SQL statements to dynamically substitute values from your Python program. Pass a tuple of values as the second argument to Cursor.execute() to bind your values to the SQL statement. This substitution pattern is demonstrated here:\n",
    "\n",
    "```\n",
    "target_variable = \"David\"\n",
    "rows = cursor.execute(\n",
    "    \"SELECT name, age, dob FROM table WHERE name = ?\",\n",
    "    (target_variable,),\n",
    ").fetchall()\n",
    "print(rows)\n",
    "```"
   ]
  },
  {
   "cell_type": "code",
   "execution_count": null,
   "id": "86eebbab",
   "metadata": {},
   "outputs": [],
   "source": [
    "# modifying data in a SQLite database\n",
    "new_dob = 1984-10-09\n",
    "moved_name = \"Kelly\"\n",
    "cursor.execute(\n",
    "    \"UPDATE table SET dob = ? WHERE name = ?\",\n",
    "    (new_dob, moved_name)\n",
    ")\n",
    "\n",
    "# remove a row\n",
    "removed_name = \"David\"\n",
    "cursor.execute(\n",
    "    \"DELETE FROM table WHERE name = ?\",\n",
    "    (removed_name,)\n",
    ")"
   ]
  },
  {
   "cell_type": "code",
   "execution_count": null,
   "id": "bf17b9e9",
   "metadata": {},
   "outputs": [],
   "source": [
    "# Use **with** statements to automatically close Connection and Cursor objects (like closing python files when finished working with them.\n",
    "\n",
    "with sqlite3.connect('sqlite_db_pythonsqlite.db') as con:\n",
    "    cur = con.cursor()\n",
    "    rows = cur.execute(<sql_query>).fetchall()\n",
    "    print(rows)"
   ]
  },
  {
   "cell_type": "code",
   "execution_count": null,
   "id": "96f273f9",
   "metadata": {
    "scrolled": false
   },
   "outputs": [],
   "source": [
    "# or is this way better?\n",
    "\n",
    "query10 = \"\"\"SELECT * FROM Bookings LIMIT 0,30\"\"\"\n",
    "\n",
    "# creating a connection called con\n",
    "# cur is a cursor\n",
    "with sqlite3.connect('sqlite_db_pythonsqlite.db') as con:\n",
    "    cur = con.cursor()\n",
    "    for row in cur.execute(query10):\n",
    "        print(row)"
   ]
  },
  {
   "cell_type": "code",
   "execution_count": null,
   "id": "63b91127",
   "metadata": {},
   "outputs": [],
   "source": [
    "query10 = \"\"\"SELECT facility, SUM(cost) AS revenues\n",
    "FROM (\n",
    "\tSELECT\n",
    "\t\tCASE WHEN b.facid = f.facid THEN f.name END AS facility,\n",
    "\t\tCASE WHEN b.memid = 0 THEN (slots * f.guestcost)\n",
    "\t\tELSE (slots * f.membercost) END AS cost\n",
    "\tFROM Bookings AS b\n",
    "\tINNER JOIN Facilities AS f\n",
    "\t\tON b.facid = f.facid\n",
    ") AS r\n",
    "GROUP BY facility\n",
    "HAVING revenues < 1000\n",
    "\"\"\"\n",
    "\n",
    "with sqlite3.connect('sqlite_db_pythonsqlite.db') as con:\n",
    "    cur = con.cursor()\n",
    "    for row in cur.execute(query10):\n",
    "        print(row)"
   ]
  },
  {
   "cell_type": "code",
   "execution_count": null,
   "id": "ef009632",
   "metadata": {},
   "outputs": [],
   "source": [
    "query11 = \"\"\"SELECT surname || ', ' || firstname AS member,\n",
    "\tCASE WHEN m.recommendedby THEN s.member \n",
    "\tWHEN m.recommendedby = '' THEN '' END AS recommender\n",
    "FROM Members as m\n",
    "INNER JOIN (\n",
    "    SELECT memid,\n",
    "    \tsurname || ', ' || firstname AS member\n",
    "    FROM Members\n",
    "    ) AS s\n",
    "ON m.recommendedby = s.memid\n",
    "WHERE m.surname <> 'GUEST'\n",
    "ORDER BY member\n",
    "\"\"\"\n",
    "\n",
    "with sqlite3.connect('sqlite_db_pythonsqlite.db') as con:\n",
    "    cur = con.cursor()\n",
    "    for row in cur.execute(query11):\n",
    "        print(row)"
   ]
  },
  {
   "cell_type": "code",
   "execution_count": null,
   "id": "1ee63c1c",
   "metadata": {},
   "outputs": [],
   "source": [
    "query12 = \"\"\"SELECT\n",
    "\tCASE WHEN b.facid = f.facid THEN f.name END AS facility,\n",
    "\tCASE WHEN b.memid = m.memid THEN surname || ', ' || firstname END AS member,\n",
    "\tCOUNT(b.memid) AS uses\n",
    "FROM Bookings AS b\n",
    "LEFT JOIN Facilities AS f\n",
    "\tON b.facid = f.facid\n",
    "LEFT JOIN Members AS m\n",
    "\tON b.memid = m.memid\n",
    "WHERE b.memid <> 0\n",
    "GROUP BY b.facid, b.memid\n",
    "\"\"\"\n",
    "\n",
    "with sqlite3.connect('sqlite_db_pythonsqlite.db') as con:\n",
    "    cur = con.cursor()\n",
    "    for row in cur.execute(query12):\n",
    "        print(row)"
   ]
  },
  {
   "cell_type": "code",
   "execution_count": null,
   "id": "090299f5",
   "metadata": {},
   "outputs": [],
   "source": [
    "query13 = \"\"\"SELECT b.facid,\n",
    "\tCASE WHEN b.facid = f.facid THEN f.name END AS facility,\n",
    "\tLTRIM(starttime, 7) AS month,\n",
    "\tCOUNT(bookid) AS uses\n",
    "FROM Bookings AS b\n",
    "LEFT JOIN Facilities AS f\n",
    "\tON b.facid = f.facid\n",
    "GROUP BY b.facid, month\n",
    "\"\"\"\n",
    "\n",
    "with sqlite3.connect('sqlite_db_pythonsqlite.db') as con:\n",
    "    cur = con.cursor()\n",
    "    for row in cur.execute(query13):\n",
    "        print(row)"
   ]
  },
  {
   "cell_type": "code",
   "execution_count": null,
   "id": "ac38d1c6",
   "metadata": {},
   "outputs": [],
   "source": [
    "import sqlite3\n",
    "from sqlite3 import Error\n",
    "\n",
    " \n",
    "def create_connection(db_file):\n",
    "    \"\"\" create a database connection to the SQLite database\n",
    "        specified by the db_file\n",
    "    :param db_file: database file\n",
    "    :return: Connection object or None\n",
    "    \"\"\"\n",
    "    conn = None\n",
    "    try:\n",
    "        conn = sqlite3.connect(db_file)\n",
    "        print(sqlite3.version)\n",
    "    except Error as e:\n",
    "        print(e)\n",
    " \n",
    "    return conn\n",
    "\n",
    " \n",
    "def select_all_tasks(conn):\n",
    "    \"\"\"\n",
    "    Query all rows in the tasks table\n",
    "    :param conn: the Connection object\n",
    "    :return:\n",
    "    \"\"\"\n",
    "    cur = conn.cursor()\n",
    "    \n",
    "    query1 = \"\"\"\n",
    "        SELECT *\n",
    "        FROM FACILITIES\n",
    "        \"\"\"\n",
    "    cur.execute(query1)\n",
    " \n",
    "    rows = cur.fetchall()\n",
    " \n",
    "    for row in rows:\n",
    "        print(row)\n",
    "\n",
    "\n",
    "def main():\n",
    "    database = \"sqlite_db_pythonsqlite.db\"\n",
    " \n",
    "    # create a database connection\n",
    "    conn = create_connection(database)\n",
    "    with conn: \n",
    "        print(\"2. Query all tasks\")\n",
    "        select_all_tasks(conn)\n",
    " \n",
    " \n",
    "if __name__ == '__main__':\n",
    "    main()"
   ]
  }
 ],
 "metadata": {
  "kernelspec": {
   "display_name": "Python 3 (ipykernel)",
   "language": "python",
   "name": "python3"
  },
  "language_info": {
   "codemirror_mode": {
    "name": "ipython",
    "version": 3
   },
   "file_extension": ".py",
   "mimetype": "text/x-python",
   "name": "python",
   "nbconvert_exporter": "python",
   "pygments_lexer": "ipython3",
   "version": "3.9.7"
  }
 },
 "nbformat": 4,
 "nbformat_minor": 5
}
